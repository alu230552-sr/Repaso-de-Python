{
  "nbformat": 4,
  "nbformat_minor": 0,
  "metadata": {
    "colab": {
      "provenance": [],
      "authorship_tag": "ABX9TyOh1J5XPO0fX8j4TSr5hO39",
      "include_colab_link": true
    },
    "kernelspec": {
      "name": "python3",
      "display_name": "Python 3"
    },
    "language_info": {
      "name": "python"
    }
  },
  "cells": [
    {
      "cell_type": "markdown",
      "metadata": {
        "id": "view-in-github",
        "colab_type": "text"
      },
      "source": [
        "<a href=\"https://colab.research.google.com/github/alu230552-sr/Repaso-de-Python/blob/main/MagoDR.ipynb\" target=\"_parent\"><img src=\"https://colab.research.google.com/assets/colab-badge.svg\" alt=\"Open In Colab\"/></a>"
      ]
    },
    {
      "cell_type": "code",
      "execution_count": null,
      "metadata": {
        "id": "0fL-xEVG-5ke"
      },
      "outputs": [],
      "source": []
    },
    {
      "cell_type": "markdown",
      "source": [
        "realizar un programa que permita capturar tu nombre y lo imprima seguido de una bienvenida"
      ],
      "metadata": {
        "id": "AG_cidac_Ohm"
      }
    },
    {
      "cell_type": "code",
      "source": [
        "print(\"Que tranza Mago\")"
      ],
      "metadata": {
        "colab": {
          "base_uri": "https://localhost:8080/"
        },
        "id": "8PrrBX1S_fCG",
        "outputId": "98143970-2422-4a9c-8fcc-074759cd8bd7"
      },
      "execution_count": 1,
      "outputs": [
        {
          "output_type": "stream",
          "name": "stdout",
          "text": [
            "Que tranza Mago\n"
          ]
        }
      ]
    },
    {
      "cell_type": "code",
      "source": [
        "nombre=input(\"ingrese su nombre\")\n",
        "print(\"Bienvenido\",nombre)"
      ],
      "metadata": {
        "colab": {
          "base_uri": "https://localhost:8080/"
        },
        "id": "sMMlP4sWCoMB",
        "outputId": "136a8afc-90aa-40c4-c9ad-18b58abcc235"
      },
      "execution_count": 8,
      "outputs": [
        {
          "output_type": "stream",
          "name": "stdout",
          "text": [
            "ingrese su nombreMago\n",
            "Bienvenido Mago\n"
          ]
        }
      ]
    },
    {
      "cell_type": "markdown",
      "source": [
        "Realizar un programa que permita capturar 2 numeros enteros e imprima la suma, resta, multiplicacion y division entre ellos."
      ],
      "metadata": {
        "id": "HlIGLk-UDYAn"
      }
    },
    {
      "cell_type": "code",
      "source": [
        "num1=int(input(\"ingrese el primer numero: \"))\n",
        "num2=int(input(\"ingrese el segundo numero: \"))\n",
        "suma=num1+num2\n",
        "resta=num1-num2\n",
        "multiplicacion=num1*num2\n",
        "division=num1/num2\n",
        "print(\"la suma es: \",suma)\n",
        "print(\"la resta es: \",resta)\n",
        "print(\"la multiplicacion es: \",multiplicacion)\n",
        "print(\"la division es: \",division)"
      ],
      "metadata": {
        "colab": {
          "base_uri": "https://localhost:8080/"
        },
        "id": "AsaE6pfFD3eu",
        "outputId": "50864cff-9d90-4604-968a-806c5c32ead6"
      },
      "execution_count": 10,
      "outputs": [
        {
          "output_type": "stream",
          "name": "stdout",
          "text": [
            "ingrese el primer numero: 4\n",
            "ingrese el segundo numero: 6\n",
            "la suma es:  10\n",
            "la resta es:  -2\n",
            "la multiplicacion es:  24\n",
            "la division es:  0.6666666666666666\n"
          ]
        }
      ]
    }
  ]
}