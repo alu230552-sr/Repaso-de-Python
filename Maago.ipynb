{
  "nbformat": 4,
  "nbformat_minor": 0,
  "metadata": {
    "colab": {
      "provenance": [],
      "authorship_tag": "ABX9TyPr7cta9bPr/pfNhy8oid2A",
      "include_colab_link": true
    },
    "kernelspec": {
      "name": "python3",
      "display_name": "Python 3"
    },
    "language_info": {
      "name": "python"
    }
  },
  "cells": [
    {
      "cell_type": "markdown",
      "metadata": {
        "id": "view-in-github",
        "colab_type": "text"
      },
      "source": [
        "<a href=\"https://colab.research.google.com/github/alu230552-sr/Repaso-de-Python/blob/main/Maago.ipynb\" target=\"_parent\"><img src=\"https://colab.research.google.com/assets/colab-badge.svg\" alt=\"Open In Colab\"/></a>"
      ]
    },
    {
      "cell_type": "markdown",
      "source": [
        "realizar un programa en python que te permita capturar 3 numeros enteros e imprima cual de los 3 es el mayor"
      ],
      "metadata": {
        "id": "0sVHoSX--tEW"
      }
    },
    {
      "cell_type": "code",
      "execution_count": 7,
      "metadata": {
        "colab": {
          "base_uri": "https://localhost:8080/"
        },
        "id": "cdnYJLUK-R7a",
        "outputId": "7228ae92-2f79-41a2-b0d7-f7be94e89e9c"
      },
      "outputs": [
        {
          "output_type": "stream",
          "name": "stdout",
          "text": [
            "ingrese el primer numero\n",
            "25\n",
            "ingrese el segundo numero\n",
            "20\n",
            "ingrese el tercer numero\n",
            "19\n",
            "el numero mayor es 25\n"
          ]
        }
      ],
      "source": [
        "print(\"ingrese el primer numero\")\n",
        "num1=int(input())\n",
        "print(\"ingrese el segundo numero\")\n",
        "num2=int(input())\n",
        "print(\"ingrese el tercer numero\")\n",
        "num3=int(input())\n",
        "if num1>num2 and num1>num3:\n",
        "  print(\"el numero mayor es\",num1)\n",
        "  if num2>num1 and num2>num3:\n",
        "    print(\"el numero mayor es\",num2)\n",
        "    if num3>num1 and num3>num2:\n",
        "      print(\"el numero mayor es\",num3)"
      ]
    },
    {
      "cell_type": "markdown",
      "source": [
        "Realizar un programa en python mediante el cual calcules el total de caracteres que tiene un nombre capturado desde el teclado."
      ],
      "metadata": {
        "id": "FxCcqWSU_I_8"
      }
    },
    {
      "cell_type": "code",
      "source": [
        "print(\"Programa de Caracteres..\")\n",
        "nombre=input(\"Captura tu nombre: \")\n",
        "print(\"el nombre tiene\",len(nombre),\"caracteres\")"
      ],
      "metadata": {
        "colab": {
          "base_uri": "https://localhost:8080/"
        },
        "id": "6VDwAhrk_KM0",
        "outputId": "82f5c5f5-e5e7-4848-e6f7-3fa732e340a0"
      },
      "execution_count": 8,
      "outputs": [
        {
          "output_type": "stream",
          "name": "stdout",
          "text": [
            "Programa de Caracteres..\n",
            "Captura tu nombre: Rekke\n",
            "el nombre tiene 5 caracteres\n"
          ]
        }
      ]
    },
    {
      "cell_type": "markdown",
      "source": [
        " Realizar un programa en python que permita imprimir los 7 días de la semana."
      ],
      "metadata": {
        "id": "gw5ppJ-P_KpU"
      }
    },
    {
      "cell_type": "code",
      "source": [
        "print(\"ELige un dia de la semana: \")\n",
        "print(\"1.Lunes\")\n",
        "print(\"2.Martes\")\n",
        "print(\"3.Miercoles\")\n",
        "print(\"4.Jueves\")\n",
        "print(\"5.Viernes\")\n",
        "print(\"6.Sabado\")\n",
        "print(\"7.Domingo\")\n",
        "dia=int(input())\n",
        "if dia==1:\n",
        "  print(\"Lunes\")\n",
        "elif dia==2:\n",
        "  print(\"Martes\")\n",
        "elif dia==3:\n",
        "  print(\"Miercoles\")\n",
        "elif dia==4:\n",
        "  print(\"Jueves\")\n",
        "elif dia==5:\n",
        "  print(\"Viernes\")"
      ],
      "metadata": {
        "colab": {
          "base_uri": "https://localhost:8080/"
        },
        "id": "EWkxewk7_PJ7",
        "outputId": "84a15e89-4324-45cc-9521-83b01de8d0b6"
      },
      "execution_count": 11,
      "outputs": [
        {
          "output_type": "stream",
          "name": "stdout",
          "text": [
            "ELige un dia de la semana: \n",
            "1.Lunes\n",
            "2.Martes\n",
            "3.Miercoles\n",
            "4.Jueves\n",
            "5.Viernes\n",
            "6.Sabado\n",
            "7.Domingo\n",
            "4\n",
            "Jueves\n"
          ]
        }
      ]
    }
  ]
}